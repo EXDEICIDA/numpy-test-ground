{
 "cells": [
  {
   "cell_type": "markdown",
   "id": "cc7c1770-d430-4c46-bd98-b065f547db62",
   "metadata": {},
   "source": [
    "# indxing and selection"
   ]
  },
  {
   "cell_type": "code",
   "execution_count": 2,
   "id": "fc1c319f-9241-4cbd-91fc-2a24c7b7a53a",
   "metadata": {},
   "outputs": [],
   "source": [
    "import numpy as np"
   ]
  },
  {
   "cell_type": "code",
   "execution_count": 4,
   "id": "2c1e62f9-7c5a-417e-97f7-9b135ed0e155",
   "metadata": {},
   "outputs": [],
   "source": [
    "arr = np.arange(0,11)"
   ]
  },
  {
   "cell_type": "code",
   "execution_count": 6,
   "id": "8bee7275-1953-4ff0-9b49-e70907f96734",
   "metadata": {},
   "outputs": [
    {
     "data": {
      "text/plain": [
       "array([ 0,  1,  2,  3,  4,  5,  6,  7,  8,  9, 10])"
      ]
     },
     "execution_count": 6,
     "metadata": {},
     "output_type": "execute_result"
    }
   ],
   "source": [
    "arr"
   ]
  },
  {
   "cell_type": "code",
   "execution_count": 8,
   "id": "e3a1b304-a915-410d-91ad-009be7e81eea",
   "metadata": {},
   "outputs": [
    {
     "data": {
      "text/plain": [
       "8"
      ]
     },
     "execution_count": 8,
     "metadata": {},
     "output_type": "execute_result"
    }
   ],
   "source": [
    "arr[8]"
   ]
  },
  {
   "cell_type": "code",
   "execution_count": 12,
   "id": "78b8b4b0-a3eb-4833-8d78-e2ea3c80f106",
   "metadata": {},
   "outputs": [
    {
     "data": {
      "text/plain": [
       "array([1, 2, 3, 4])"
      ]
     },
     "execution_count": 12,
     "metadata": {},
     "output_type": "execute_result"
    }
   ],
   "source": [
    "arr[1:5]"
   ]
  },
  {
   "cell_type": "code",
   "execution_count": 14,
   "id": "82f417fd-00d7-493e-809e-ff2dfd387789",
   "metadata": {},
   "outputs": [
    {
     "data": {
      "text/plain": [
       "array([0, 1, 2, 3, 4])"
      ]
     },
     "execution_count": 14,
     "metadata": {},
     "output_type": "execute_result"
    }
   ],
   "source": [
    "arr[:5]"
   ]
  },
  {
   "cell_type": "code",
   "execution_count": 16,
   "id": "efc0354e-445a-49a9-a931-316c4c2e63bc",
   "metadata": {},
   "outputs": [
    {
     "data": {
      "text/plain": [
       "array([ 5,  6,  7,  8,  9, 10])"
      ]
     },
     "execution_count": 16,
     "metadata": {},
     "output_type": "execute_result"
    }
   ],
   "source": [
    "arr[5:]"
   ]
  },
  {
   "cell_type": "markdown",
   "id": "b7cba818-e4ce-47ef-813b-5c56622999cb",
   "metadata": {},
   "source": [
    "# NumPy Broadcasting"
   ]
  },
  {
   "cell_type": "code",
   "execution_count": 21,
   "id": "25a03a2e-1a5f-41eb-8139-413d04cf9c6b",
   "metadata": {},
   "outputs": [],
   "source": [
    "arr[0:5] = 100"
   ]
  },
  {
   "cell_type": "code",
   "execution_count": 23,
   "id": "6a4ad7b5-cb48-444e-a613-3df490a4e274",
   "metadata": {},
   "outputs": [
    {
     "data": {
      "text/plain": [
       "array([100, 100, 100, 100, 100,   5,   6,   7,   8,   9,  10])"
      ]
     },
     "execution_count": 23,
     "metadata": {},
     "output_type": "execute_result"
    }
   ],
   "source": [
    "arr"
   ]
  },
  {
   "cell_type": "code",
   "execution_count": 37,
   "id": "74df5da0-a479-4505-a6ad-016de40860bf",
   "metadata": {},
   "outputs": [],
   "source": [
    "slice_of_arr =  arr[0:5]"
   ]
  },
  {
   "cell_type": "code",
   "execution_count": 39,
   "id": "f3f2d3a9-676d-42e5-9650-1d8b3ccdaac0",
   "metadata": {},
   "outputs": [],
   "source": [
    "slice_of_arr[:] = 99"
   ]
  },
  {
   "cell_type": "code",
   "execution_count": 41,
   "id": "afda93cb-8070-4454-b9f8-cf610b2357cf",
   "metadata": {},
   "outputs": [
    {
     "data": {
      "text/plain": [
       "array([99, 99, 99, 99, 99])"
      ]
     },
     "execution_count": 41,
     "metadata": {},
     "output_type": "execute_result"
    }
   ],
   "source": [
    "slice_of_arr[:] "
   ]
  },
  {
   "cell_type": "markdown",
   "id": "76625531-7e10-4c2e-a9f1-27387ba491c6",
   "metadata": {},
   "source": [
    "# Indexing on IID arrays"
   ]
  },
  {
   "cell_type": "code",
   "execution_count": 50,
   "id": "3acf20ee-6ab1-404c-b9fc-0285b95ca58f",
   "metadata": {},
   "outputs": [],
   "source": [
    "arr2D = np.array([[5,10,15],[20,25,30],[30,40,40]])"
   ]
  },
  {
   "cell_type": "code",
   "execution_count": 54,
   "id": "02897b76-ee67-4f21-b638-1b1ff759419c",
   "metadata": {},
   "outputs": [
    {
     "data": {
      "text/plain": [
       "array([[ 5, 10, 15],\n",
       "       [20, 25, 30],\n",
       "       [30, 40, 40]])"
      ]
     },
     "execution_count": 54,
     "metadata": {},
     "output_type": "execute_result"
    }
   ],
   "source": [
    "arr2D "
   ]
  },
  {
   "cell_type": "code",
   "execution_count": 60,
   "id": "65d2983f-02ed-4a38-a7ab-90cb90d1aa3e",
   "metadata": {},
   "outputs": [
    {
     "data": {
      "text/plain": [
       "(3, 3)"
      ]
     },
     "execution_count": 60,
     "metadata": {},
     "output_type": "execute_result"
    }
   ],
   "source": [
    "arr2D.shape"
   ]
  },
  {
   "cell_type": "code",
   "execution_count": 62,
   "id": "51132283-2870-4dcf-972f-9d3e60110ca8",
   "metadata": {},
   "outputs": [
    {
     "data": {
      "text/plain": [
       "array([ 5, 10, 15])"
      ]
     },
     "execution_count": 62,
     "metadata": {},
     "output_type": "execute_result"
    }
   ],
   "source": [
    "arr2D[0]"
   ]
  },
  {
   "cell_type": "code",
   "execution_count": null,
   "id": "a9fd0576-626b-4b09-b748-53826541aa5b",
   "metadata": {},
   "outputs": [],
   "source": []
  }
 ],
 "metadata": {
  "kernelspec": {
   "display_name": "Python [conda env:base] *",
   "language": "python",
   "name": "conda-base-py"
  },
  "language_info": {
   "codemirror_mode": {
    "name": "ipython",
    "version": 3
   },
   "file_extension": ".py",
   "mimetype": "text/x-python",
   "name": "python",
   "nbconvert_exporter": "python",
   "pygments_lexer": "ipython3",
   "version": "3.12.7"
  }
 },
 "nbformat": 4,
 "nbformat_minor": 5
}
